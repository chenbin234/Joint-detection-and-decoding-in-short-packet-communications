{
 "cells": [
  {
   "cell_type": "code",
   "execution_count": 65,
   "metadata": {},
   "outputs": [],
   "source": [
    "import os\n",
    "import sionna as sn\n",
    "\n",
    "# Import TensorFlow and NumPy\n",
    "import tensorflow as tf\n",
    "\n",
    "import numpy as np\n",
    "%matplotlib inline\n",
    "import matplotlib.pyplot as plt\n",
    "import time\n",
    "from sionna.utils.plotting import PlotBER, sim_ber\n",
    "\n",
    "# For the implementation of the Keras models\n",
    "from tensorflow.keras import Model\n",
    "\n",
    "import wandb\n"
   ]
  },
  {
   "cell_type": "code",
   "execution_count": 54,
   "metadata": {},
   "outputs": [],
   "source": [
    "class CodedSystemAWGN(Model): # Inherits from Keras Model\n",
    "    def __init__(self, num_bits_per_symbol, n, coderate):\n",
    "        super().__init__() # Must call the Keras model initializer\n",
    "\n",
    "        self.num_bits_per_symbol = num_bits_per_symbol\n",
    "        self.n = n\n",
    "        self.k = int(n*coderate)\n",
    "        self.coderate = coderate\n",
    "        self.constellation = sn.mapping.Constellation(\"qam\", self.num_bits_per_symbol)\n",
    "\n",
    "        self.mapper = sn.mapping.Mapper(constellation=self.constellation)\n",
    "        self.demapper = sn.mapping.Demapper(\"app\", constellation=self.constellation)\n",
    "\n",
    "        self.binary_source = sn.utils.BinarySource()\n",
    "        self.awgn_channel = sn.channel.AWGN()\n",
    "\n",
    "        self.encoder = sn.fec.ldpc.LDPC5GEncoder(self.k, self.n)\n",
    "        self.decoder = sn.fec.ldpc.LDPC5GDecoder(self.encoder, hard_out=True)\n",
    "\n",
    "    #@tf.function # activate graph execution to speed things up\n",
    "    def __call__(self, batch_size, ebno_db):\n",
    "        no = sn.utils.ebnodb2no(ebno_db, num_bits_per_symbol=self.num_bits_per_symbol, coderate=self.coderate)\n",
    "\n",
    "        bits = self.binary_source([batch_size, self.k])\n",
    "        codewords = self.encoder(bits)\n",
    "        x = self.mapper(codewords)\n",
    "        y = self.awgn_channel([x, no])\n",
    "        llr = self.demapper([y,no])\n",
    "        bits_hat = self.decoder(llr)\n",
    "        return bits, bits_hat"
   ]
  },
  {
   "cell_type": "code",
   "execution_count": 57,
   "metadata": {},
   "outputs": [
    {
     "name": "stdout",
     "output_type": "stream",
     "text": [
      "EbNo [dB] |        BER |       BLER |  bit errors |    num bits | block errors |  num blocks | runtime [s] |    status\n",
      "---------------------------------------------------------------------------------------------------------------------------------------\n",
      "      1.0 | 8.7430e-02 | 5.0220e-01 |       55955 |      640000 |         5022 |       10000 |         5.1 |reached target block errors\n",
      "      2.0 | 2.5313e-02 | 1.5412e-01 |       55081 |     2176000 |         5240 |       34000 |        17.1 |reached target block errors\n",
      "      3.0 | 3.4559e-03 | 2.1950e-02 |       44236 |    12800000 |         4390 |      200000 |       100.9 |reached max iter       \n",
      "      4.0 | 2.2906e-04 | 1.4650e-03 |        2932 |    12800000 |          293 |      200000 |       101.3 |reached max iter       \n",
      "      5.0 | 3.4375e-06 | 2.5000e-05 |          44 |    12800000 |            5 |      200000 |       100.9 |reached max iter       \n"
     ]
    }
   ],
   "source": [
    "CODERATE = 0.5\n",
    "BATCH_SIZE = 2000\n",
    "NUM_BITS_PER_SYMBOL = 2\n",
    "\n",
    "model_coded_awgn = CodedSystemAWGN(num_bits_per_symbol=NUM_BITS_PER_SYMBOL,\n",
    "                                   n=128,\n",
    "                                   coderate=CODERATE)\n",
    "\n",
    "snr_db = np.linspace(1, 5, 5)\n",
    "ber, bler = sim_ber(model_coded_awgn, ebno_dbs=snr_db, batch_size=BATCH_SIZE, num_target_block_errors=5000, max_mc_iter=100)"
   ]
  },
  {
   "cell_type": "code",
   "execution_count": 58,
   "metadata": {},
   "outputs": [
    {
     "data": {
      "text/plain": [
       "<tf.Tensor: shape=(5,), dtype=float64, numpy=\n",
       "array([8.74296875e-02, 2.53129596e-02, 3.45593750e-03, 2.29062500e-04,\n",
       "       3.43750000e-06])>"
      ]
     },
     "execution_count": 58,
     "metadata": {},
     "output_type": "execute_result"
    }
   ],
   "source": [
    "ber"
   ]
  },
  {
   "cell_type": "code",
   "execution_count": 59,
   "metadata": {},
   "outputs": [
    {
     "data": {
      "text/plain": [
       "<tf.Tensor: shape=(5,), dtype=float64, numpy=\n",
       "array([5.02200000e-01, 1.54117647e-01, 2.19500000e-02, 1.46500000e-03,\n",
       "       2.50000000e-05])>"
      ]
     },
     "execution_count": 59,
     "metadata": {},
     "output_type": "execute_result"
    }
   ],
   "source": [
    "bler"
   ]
  },
  {
   "cell_type": "code",
   "execution_count": 67,
   "metadata": {},
   "outputs": [
    {
     "ename": "AttributeError",
     "evalue": "module 'wandb' has no attribute 'login'",
     "output_type": "error",
     "traceback": [
      "\u001b[0;31m---------------------------------------------------------------------------\u001b[0m",
      "\u001b[0;31mAttributeError\u001b[0m                            Traceback (most recent call last)",
      "Cell \u001b[0;32mIn[67], line 1\u001b[0m\n\u001b[0;32m----> 1\u001b[0m \u001b[43mwandb\u001b[49m\u001b[38;5;241;43m.\u001b[39;49m\u001b[43mlogin\u001b[49m()\n",
      "\u001b[0;31mAttributeError\u001b[0m: module 'wandb' has no attribute 'login'"
     ]
    }
   ],
   "source": [
    "wandb.login()"
   ]
  },
  {
   "cell_type": "code",
   "execution_count": 69,
   "metadata": {},
   "outputs": [
    {
     "ename": "AttributeError",
     "evalue": "module 'wandb' has no attribute 'login'",
     "output_type": "error",
     "traceback": [
      "\u001b[0;31m---------------------------------------------------------------------------\u001b[0m",
      "\u001b[0;31mAttributeError\u001b[0m                            Traceback (most recent call last)",
      "Cell \u001b[0;32mIn[69], line 2\u001b[0m\n\u001b[1;32m      1\u001b[0m \u001b[38;5;66;03m# Initialize Weights and Biases\u001b[39;00m\n\u001b[0;32m----> 2\u001b[0m \u001b[43mwandb\u001b[49m\u001b[38;5;241;43m.\u001b[39;49m\u001b[43mlogin\u001b[49m()\n\u001b[1;32m      4\u001b[0m \u001b[38;5;66;03m# tell wandb to get started\u001b[39;00m\n\u001b[1;32m      5\u001b[0m \u001b[38;5;28;01mwith\u001b[39;00m wandb\u001b[38;5;241m.\u001b[39minit(\n\u001b[1;32m      6\u001b[0m     project\u001b[38;5;241m=\u001b[39m\u001b[38;5;124m\"\u001b[39m\u001b[38;5;124mJoint-detection-and-decoding-in-short-packet-communications\u001b[39m\u001b[38;5;124m\"\u001b[39m,\n\u001b[1;32m      7\u001b[0m ):\n\u001b[1;32m      8\u001b[0m \n\u001b[1;32m      9\u001b[0m     \u001b[38;5;66;03m# define our custom x axis metric\u001b[39;00m\n",
      "\u001b[0;31mAttributeError\u001b[0m: module 'wandb' has no attribute 'login'"
     ]
    }
   ],
   "source": [
    "# Initialize Weights and Biases\n",
    "wandb.login()\n",
    "\n",
    "# tell wandb to get started\n",
    "with wandb.init(\n",
    "    project=\"Joint-detection-and-decoding-in-short-packet-communications\",\n",
    "):\n",
    "\n",
    "    # define our custom x axis metric\n",
    "    wandb.define_metric(\"custom_step\")\n",
    "\n",
    "    # define which metrics will be plotted against it\n",
    "    # first plot for BER\n",
    "    wandb.define_metric(\n",
    "        f\"BER v.s. SNR (AWGN)\",\n",
    "        step_metric=\"custom_step\",\n",
    "    )\n",
    "\n",
    "    # second plot for BLER\n",
    "    wandb.define_metric(\n",
    "        f\"BLER v.s. SNR (AWGN)\",\n",
    "        step_metric=\"custom_step\",\n",
    "    )\n",
    "\n",
    "    for i in range(len(snr_db)):\n",
    "\n",
    "        log_dict = {\n",
    "            f\"BER v.s. SNR (AWGN)\": ber[i],\n",
    "            \"custom_step\": snr_db[i],\n",
    "        }\n",
    "        wandb.log(log_dict)\n",
    "\n",
    "        log_dict = {\n",
    "            f\"BLER v.s. SNR (AWGN)\": bler[i],\n",
    "            \"custom_step\": snr_db[i],\n",
    "        }\n",
    "        wandb.log(log_dict)"
   ]
  }
 ],
 "metadata": {
  "kernelspec": {
   "display_name": "Python 3",
   "language": "python",
   "name": "python3"
  },
  "language_info": {
   "codemirror_mode": {
    "name": "ipython",
    "version": 3
   },
   "file_extension": ".py",
   "mimetype": "text/x-python",
   "name": "python",
   "nbconvert_exporter": "python",
   "pygments_lexer": "ipython3",
   "version": "3.11.9"
  }
 },
 "nbformat": 4,
 "nbformat_minor": 2
}
